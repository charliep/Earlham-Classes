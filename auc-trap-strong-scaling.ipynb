{
 "cells": [
  {
   "cell_type": "code",
   "execution_count": 1,
   "metadata": {
    "collapsed": false
   },
   "outputs": [],
   "source": [
    "%matplotlib inline\n",
    "# \n",
    "from mpl_toolkits.mplot3d import axes3d\n",
    "import matplotlib.pyplot as plt\n",
    "\n",
    "def readAUCTrapOutput(inputFileHandle):\n",
    "    for line in inputFileHandle:\n",
    "        line = line.rstrip()\n",
    "        (a, b, n, area, nt, np, wt) = line.split(\",\", 7)\n",
    "        numProcs.append(int(np))\n",
    "        numThreads.append(int(nt))\n",
    "        wallTime.append(float(wt))\n",
    "    return\n",
    "\n",
    "# \"main\" begins here, at the outermost scope and not in a function defintion\n",
    "numProcs = []   # aka X\n",
    "numThreads = [] # aka Y\n",
    "wallTime = []   # aka Z\n",
    "\n",
    "inputFileName = \"auc-trap-strong-scaling.dat\" \n",
    "inputFileHandle = open(inputFileName, 'r')\n",
    "readAUCTrapOutput(inputFileHandle)\n",
    "inputFileHandle.close()\n",
    "\n",
    "fig = plt.figure()\n",
    "ax = fig.add_subplot(111, projection='3d')\n",
    "ax.plot_wireframe(numProcs, numThreads, wallTime, rstride=10, cstride=10)\n",
    "\n",
    "ax.set_title('Hybrid AUC Trapazoid Strong Scaling')\n",
    "ax.set_xlabel('MPI ranks (np)')\n",
    "ax.set_ylabel('OpenMP threads (nt)')\n",
    "ax.set_zlabel('Wall Time (sec)')\n",
    "ax.invert_yaxis()\n",
    "\n",
    "plt.show()"
   ]
  },
  {
   "cell_type": "code",
   "execution_count": null,
   "metadata": {
    "collapsed": true
   },
   "outputs": [],
   "source": []
  }
 ],
 "metadata": {
  "kernelspec": {
   "display_name": "Python 3",
   "language": "python",
   "name": "python3"
  },
  "language_info": {
   "codemirror_mode": {
    "name": "ipython",
    "version": 3
   },
   "file_extension": ".py",
   "mimetype": "text/x-python",
   "name": "python",
   "nbconvert_exporter": "python",
   "pygments_lexer": "ipython3",
   "version": "3.5.1"
  }
 },
 "nbformat": 4,
 "nbformat_minor": 0
}
